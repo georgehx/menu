{
 "cells": [
  {
   "cell_type": "markdown",
   "metadata": {},
   "source": [
    "# Jupyter Notebook on Computer vision Crowd Counting\n",
    "\n",
    "(Version 1.0)\n",
    "\n",
    "<img src=\"pictures/TDI_logo.png\">"
   ]
  },
  {
   "cell_type": "markdown",
   "metadata": {},
   "source": [
    "### This notebook gives a summary of the machine learning model we used in this tool.  \n",
    "\n",
    "<br>\n",
    "\n",
    "**Explain the ML project here with a detailed description...**\n",
    "\n",
    "> About the project: Add more here later...\n",
    "\n",
    "Crowd Counting is a common application of computer vision. There are constantly new algorithms that are being invented as research is still active in this area. Our business case, however, drives our model selection. I've built and compared three approaches and I'll include some introduction on each of them in the later part of the document.\n",
    "\n",
    "<br>\n",
    "\n",
    "\n",
    "**Explain this notebook's results here...**\n",
    "\n",
    "\n",
    "> The model selection space:\n",
    "\n",
    "> * Cascade Classifier Algorithm (Cascade)\n",
    "> * Tensorflow based Fast-RCNN (RCNN)\n",
    "> * Pytorch-based Multi-Column Convolutional Neural Network (MCNN)\n",
    "\n",
    "\n",
    "> We discuss and compare these 3 models and include some code nippets. \n",
    "\n",
    "> * Cascade is common for object detection and it's fast. In our business case it's possible to run detection on video frames almost in real time.\n",
    "> * Problem with Cascase classifier is that it's based on frontal face detection so accuracy decreases when customer is not facing camera.\n",
    "> * RCNN is taking 2000 region proposals to feed into a CNN so computational speed is slow. Fast RCNN resolves this by using a heat map. Faster RCNN is even faster by adding a separate network so can also almost achieve real-time.\n",
    "> * Problem with RCNN is that the approach is new (from 2016) and there aren't many transfer learning model to use. When I trained my own model I found that it suffers from occulation (the scenario when crowd is dense and people covers each other). RCNN performs poorly when person do not have full body in the picture. occlusion-aware R-CNN is an active research area.\n",
    "> * number of customer in queue\n",
    "\n"
   ]
  },
  {
   "cell_type": "code",
   "execution_count": null,
   "metadata": {},
   "outputs": [],
   "source": []
  }
 ],
 "metadata": {
  "kernelspec": {
   "display_name": "Python 3",
   "language": "python",
   "name": "python3"
  },
  "language_info": {
   "codemirror_mode": {
    "name": "ipython",
    "version": 3
   },
   "file_extension": ".py",
   "mimetype": "text/x-python",
   "name": "python",
   "nbconvert_exporter": "python",
   "pygments_lexer": "ipython3",
   "version": "3.6.5"
  }
 },
 "nbformat": 4,
 "nbformat_minor": 2
}
